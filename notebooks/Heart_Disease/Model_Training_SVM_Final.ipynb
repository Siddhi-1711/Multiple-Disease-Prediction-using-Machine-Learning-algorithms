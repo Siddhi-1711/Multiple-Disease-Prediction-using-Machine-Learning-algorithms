{
 "cells": [
  {
   "cell_type": "markdown",
   "id": "6bfeccd8",
   "metadata": {},
   "source": [
    "# Importing the libraries"
   ]
  },
  {
   "cell_type": "code",
   "execution_count": 14,
   "id": "696fafe3",
   "metadata": {},
   "outputs": [],
   "source": [
    "import pandas as pd\n",
    "from sklearn.model_selection import train_test_split\n",
    "from sklearn.metrics import accuracy_score, confusion_matrix, classification_report\n",
    "from sklearn.svm import SVC\n",
    "import matplotlib.pyplot as plt\n",
    "import seaborn as sns\n",
    "from sklearn.metrics import roc_curve, auc"
   ]
  },
  {
   "cell_type": "markdown",
   "id": "3d42f022",
   "metadata": {},
   "source": [
    "# Load the preprocessed data"
   ]
  },
  {
   "cell_type": "code",
   "execution_count": 15,
   "id": "ca1e50a9",
   "metadata": {},
   "outputs": [],
   "source": [
    "\n",
    "preprocessed_heart_df = pd.read_csv('C:/Users/SIDDHI/Desktop/Multiple-Disease-Prediction/data/heart_disease/preprocessed_heart_data.csv')"
   ]
  },
  {
   "cell_type": "markdown",
   "id": "e6c5ba22",
   "metadata": {},
   "source": [
    "# Separate the features and the target variable"
   ]
  },
  {
   "cell_type": "code",
   "execution_count": 16,
   "id": "d12e7a72",
   "metadata": {},
   "outputs": [],
   "source": [
    "\n",
    "X = preprocessed_heart_df.drop('target', axis=1)\n",
    "y = preprocessed_heart_df['target']\n"
   ]
  },
  {
   "cell_type": "markdown",
   "id": "a576f6d8",
   "metadata": {},
   "source": [
    "# Split the dataset into training and testing sets"
   ]
  },
  {
   "cell_type": "code",
   "execution_count": 17,
   "id": "f1b3046a",
   "metadata": {},
   "outputs": [],
   "source": [
    "\n",
    "X_train,X_test,y_train,y_test = train_test_split(X, y, test_size=0.30, random_state=0)"
   ]
  },
  {
   "cell_type": "markdown",
   "id": "861e08b3",
   "metadata": {},
   "source": [
    "# Train the SVM model"
   ]
  },
  {
   "cell_type": "code",
   "execution_count": 18,
   "id": "7286f893",
   "metadata": {},
   "outputs": [
    {
     "name": "stdout",
     "output_type": "stream",
     "text": [
      "Best parameters: {'C': 0.1, 'gamma': 'scale', 'kernel': 'linear'}\n",
      "Best SVM Accuracy: 0.7912087912087912\n"
     ]
    }
   ],
   "source": [
    "from sklearn.model_selection import GridSearchCV\n",
    "\n",
    "# Define the parameter grid\n",
    "param_grid = {\n",
    "    'C': [0.1, 1, 10, 100],\n",
    "    'kernel': ['linear', 'rbf'],\n",
    "    'gamma': ['scale', 'auto']\n",
    "}\n",
    "\n",
    "# Initialize the SVM model\n",
    "svm = SVC()\n",
    "\n",
    "# Initialize the GridSearchCV object\n",
    "grid_search = GridSearchCV(svm, param_grid, cv=5, scoring='accuracy')\n",
    "\n",
    "# Fit the GridSearchCV object to the data\n",
    "grid_search.fit(X_train, y_train)\n",
    "\n",
    "# Get the best parameters\n",
    "best_params = grid_search.best_params_\n",
    "print(f\"Best parameters: {best_params}\")\n",
    "\n",
    "# Train the SVM model with the best parameters\n",
    "best_svm_model = SVC(**best_params)\n",
    "best_svm_model.fit(X_train, y_train)\n",
    "\n",
    "# Make predictions\n",
    "best_svm_predictions = best_svm_model.predict(X_test)\n",
    "\n",
    "# Evaluate the model\n",
    "best_svm_accuracy = accuracy_score(y_test, best_svm_predictions)\n",
    "print(f\"Best SVM Accuracy: {best_svm_accuracy}\")\n"
   ]
  },
  {
   "cell_type": "code",
   "execution_count": 19,
   "id": "907379c1",
   "metadata": {},
   "outputs": [
    {
     "name": "stdout",
     "output_type": "stream",
     "text": [
      "Number of features in the training set: 13\n",
      "Number of features in the testing set: 13\n"
     ]
    }
   ],
   "source": [
    "# Assuming X_train and X_test are your original datasets\n",
    "# Check the number of features in the training set\n",
    "num_features_train = X_train.shape[1]\n",
    "print(f\"Number of features in the training set: {num_features_train}\")\n",
    "\n",
    "# Check the number of features in the testing set\n",
    "num_features_test = X_test.shape[1]\n",
    "print(f\"Number of features in the testing set: {num_features_test}\")\n"
   ]
  },
  {
   "cell_type": "code",
   "execution_count": 20,
   "id": "cd791220",
   "metadata": {},
   "outputs": [
    {
     "name": "stdout",
     "output_type": "stream",
     "text": [
      "Feature names in the training set:\n",
      "age\n",
      "sex\n",
      "cp\n",
      "trestbps\n",
      "chol\n",
      "fbs\n",
      "restecg\n",
      "thalach\n",
      "exang\n",
      "oldpeak\n",
      "slope\n",
      "ca\n",
      "thal\n"
     ]
    }
   ],
   "source": [
    "# Print the names of the features in the training set\n",
    "print(\"Feature names in the training set:\")\n",
    "for feature_name in X_train.columns:\n",
    "    print(feature_name)\n"
   ]
  },
  {
   "cell_type": "markdown",
   "id": "41c94558",
   "metadata": {},
   "source": [
    "\n",
    "# Plotting the confusion matrix"
   ]
  },
  {
   "cell_type": "code",
   "execution_count": 21,
   "id": "e707af09",
   "metadata": {},
   "outputs": [
    {
     "data": {
      "image/png": "[encoded data removed]",
      "text/plain": [
       "<Figure size 1000x700 with 2 Axes>"
      ]
     },
     "metadata": {},
     "output_type": "display_data"
    }
   ],
   "source": [
    "\n",
    "# Assuming svm_predictions_selected is the predictions from your SVM model with selected features\n",
    "cm = confusion_matrix(y_test, best_svm_predictions)\n",
    "\n",
    "# Plotting the confusion matrix\n",
    "plt.figure(figsize=(10, 7))\n",
    "sns.heatmap(cm, annot=True, fmt='d', cmap='Blues')\n",
    "plt.xlabel('Predicted')\n",
    "plt.ylabel('Actual')\n",
    "plt.title('Confusion Matrix')\n",
    "plt.show()"
   ]
  },
  {
   "cell_type": "markdown",
   "id": "0809acf2",
   "metadata": {},
   "source": [
    "# Plotting the ROC curve"
   ]
  },
  {
   "cell_type": "code",
   "execution_count": 22,
   "id": "d886106f",
   "metadata": {},
   "outputs": [
    {
     "data": {
      "image/png": "[encoded data removed]",
      "text/plain": [
       "<Figure size 1000x700 with 1 Axes>"
      ]
     },
     "metadata": {},
     "output_type": "display_data"
    }
   ],
   "source": [
    "# Calculate ROC curve and ROC area\n",
    "fpr, tpr, _ = roc_curve(y_test, best_svm_predictions)\n",
    "roc_auc = auc(fpr, tpr)\n",
    "\n",
    "\n",
    "plt.figure(figsize=(10, 7))\n",
    "plt.plot(fpr, tpr, color='darkorange', lw=2, label='ROC curve (area = %0.2f)' % roc_auc)\n",
    "plt.plot([0, 1], [0, 1], color='navy', lw=2, linestyle='--')\n",
    "plt.xlim([0.0, 1.0])\n",
    "plt.ylim([0.0, 1.05])\n",
    "plt.xlabel('False Positive Rate')\n",
    "plt.ylabel('True Positive Rate')\n",
    "plt.title('Receiver Operating Characteristic')\n",
    "plt.legend(loc=\"lower right\")\n",
    "plt.show()\n"
   ]
  },
  {
   "cell_type": "markdown",
   "id": "03a737e8",
   "metadata": {},
   "source": [
    "# classification report"
   ]
  },
  {
   "cell_type": "code",
   "execution_count": 23,
   "id": "0ca47328",
   "metadata": {},
   "outputs": [
    {
     "name": "stdout",
     "output_type": "stream",
     "text": [
      "              precision    recall  f1-score   support\n",
      "\n",
      "           0       0.86      0.68      0.76        44\n",
      "           1       0.75      0.89      0.82        47\n",
      "\n",
      "    accuracy                           0.79        91\n",
      "   macro avg       0.80      0.79      0.79        91\n",
      "weighted avg       0.80      0.79      0.79        91\n",
      "\n"
     ]
    }
   ],
   "source": [
    "\n",
    "print(classification_report(y_test, best_svm_predictions))\n"
   ]
  },
  {
   "cell_type": "markdown",
   "id": "c6705e74",
   "metadata": {},
   "source": [
    "# Save the model to a file"
   ]
  },
  {
   "cell_type": "code",
   "execution_count": 24,
   "id": "5c375095",
   "metadata": {},
   "outputs": [],
   "source": [
    "import pickle\n",
    "# Save the best SVM model to a file\n",
    "with open('C:/Users/SIDDHI/Desktop/Multiple-Disease-Prediction/app/models/heart_disease/svm_model.pkl', 'wb') as file:\n",
    "    pickle.dump(best_svm_model, file)\n"
   ]
  },
  {
   "cell_type": "markdown",
   "id": "27e5d925",
   "metadata": {},
   "source": [
    "# Load the model from a file"
   ]
  },
  {
   "cell_type": "code",
   "execution_count": 13,
   "id": "fc61d59c",
   "metadata": {},
   "outputs": [],
   "source": [
    "# Load the best SVM model from a file\n",
    "with open('C:/Users/SIDDHI/Desktop/Multiple-Disease-Prediction/app/models/heart_disease/svm_model.pkl', 'rb') as file:\n",
    "    svm_model = pickle.load(file)\n"
   ]
  },
  {
   "cell_type": "code",
   "execution_count": 2,
   "id": "cdac3c44",
   "metadata": {},
   "outputs": [
    {
     "name": "stdout",
     "output_type": "stream",
     "text": [
      "Prediction: 1\n"
     ]
    },
    {
     "name": "stderr",
     "output_type": "stream",
     "text": [
      "C:\\Users\\SIDDHI\\AppData\\Local\\Programs\\Python\\Python310\\lib\\site-packages\\sklearn\\base.py:493: UserWarning: X does not have valid feature names, but SVC was fitted with feature names\n",
      "  warnings.warn(\n"
     ]
    }
   ],
   "source": [
    "import pickle\n",
    "import numpy as np\n",
    "\n",
    "# Load the diabetes model\n",
    "model_path = 'C:/Users/SIDDHI/Desktop/Multiple-Disease-Prediction/app/models/diabetes/svm_model.pkl'\n",
    "with open(model_path, 'rb') as file:\n",
    "    diabetes_model = pickle.load(file)\n",
    "\n",
    "# Example input data for diabetes\n",
    "input_data = {\n",
    "    'Pregnancies': 6,\n",
    "    'Glucose': 148.0,\n",
    "    'BloodPressure': 72.0,\n",
    "    'SkinThickness': 35.0,\n",
    "    'Insulin': 169.5,\n",
    "    'BMI': 33.6,\n",
    "    'DiabetesPedigreeFunction': 0.627,\n",
    "    'Age': 50\n",
    "}\n",
    "\n",
    "# Transform the input data according to your logic\n",
    "dic2 = {'NewBMI_Obesity 1': 0, 'NewBMI_Obesity 2': 0, 'NewBMI_Obesity 3': 0, 'NewBMI_Overweight': 0,\n",
    "        'NewBMI_Underweight': 0, 'NewInsulinScore_Normal': 0, 'NewGlucose_Low': 0,\n",
    "        'NewGlucose_Normal': 0, 'NewGlucose_Overweight': 0, 'NewGlucose_Secret': 0}\n",
    "\n",
    "if input_data['BMI'] <= 18.5:\n",
    "    dic2['NewBMI_Underweight'] = 1\n",
    "elif 18.5 < input_data['BMI'] <= 24.9:\n",
    "    pass\n",
    "elif 24.9 < input_data['BMI'] <= 29.9:\n",
    "    dic2['NewBMI_Overweight'] = 1\n",
    "elif 29.9 < input_data['BMI'] <= 34.9:\n",
    "    dic2['NewBMI_Obesity 1'] = 1\n",
    "elif 34.9 < input_data['BMI'] <= 39.9:\n",
    "    dic2['NewBMI_Obesity 2'] = 1\n",
    "elif input_data['BMI'] > 39.9:\n",
    "    dic2['NewBMI_Obesity 3'] = 1\n",
    "\n",
    "if 16 <= input_data['Insulin'] <= 166:\n",
    "    dic2['NewInsulinScore_Normal'] = 1\n",
    "\n",
    "if input_data['Glucose'] <= 70:\n",
    "    dic2['NewGlucose_Low'] = 1\n",
    "elif 70 < input_data['Glucose'] <= 99:\n",
    "    dic2['NewGlucose_Normal'] = 1\n",
    "elif 99 < input_data['Glucose'] <= 126:\n",
    "    dic2['NewGlucose_Overweight'] = 1\n",
    "elif input_data['Glucose'] > 126:\n",
    "    dic2['NewGlucose_Secret'] = 1\n",
    "\n",
    "input_data.update(dic2)\n",
    "values2 = list(map(float, list(input_data.values())))\n",
    "\n",
    "# Make a prediction\n",
    "values = np.asarray(values2)\n",
    "prediction = diabetes_model.predict(values.reshape(1, -1))[0]\n",
    "\n",
    "print(\"Prediction:\", prediction)\n"
   ]
  },
  {
   "cell_type": "code",
   "execution_count": null,
   "id": "abf6ee8a",
   "metadata": {},
   "outputs": [],
   "source": []
  }
 ],
 "metadata": {
  "kernelspec": {
   "display_name": "Python 3 (ipykernel)",
   "language": "python",
   "name": "python3"
  },
  "language_info": {
   "codemirror_mode": {
    "name": "ipython",
    "version": 3
   },
   "file_extension": ".py",
   "mimetype": "text/x-python",
   "name": "python",
   "nbconvert_exporter": "python",
   "pygments_lexer": "ipython3",
   "version": "3.10.11"
  }
 },
 "nbformat": 4,
 "nbformat_minor": 5
}
